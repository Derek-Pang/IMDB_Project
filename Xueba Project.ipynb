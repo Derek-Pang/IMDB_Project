{
 "cells": [
  {
   "cell_type": "code",
   "execution_count": 1,
   "metadata": {},
   "outputs": [],
   "source": [
    "import requests "
   ]
  },
  {
   "cell_type": "code",
   "execution_count": 2,
   "metadata": {},
   "outputs": [],
   "source": [
    "from bs4 import BeautifulSoup "
   ]
  },
  {
   "cell_type": "code",
   "execution_count": 4,
   "metadata": {},
   "outputs": [],
   "source": [
    "import re "
   ]
  },
  {
   "cell_type": "code",
   "execution_count": 5,
   "metadata": {},
   "outputs": [],
   "source": [
    "def start_requests(url):\n",
    "    r = requests.get(url)\n",
    "    return r.content"
   ]
  },
  {
   "cell_type": "code",
   "execution_count": 6,
   "metadata": {},
   "outputs": [],
   "source": [
    "movie_Dict = {'Movies Name':[],'Release Year':[], 'Genre':[], 'Director':[], 'Votes':[]}"
   ]
  },
  {
   "cell_type": "code",
   "execution_count": 10,
   "metadata": {},
   "outputs": [],
   "source": [
    "def parse(text):\n",
    "    soup = BeautifulSoup(text, 'html.parser')\n",
    "    movie_list = soup.find_all('div', class_ = 'lister-item-content') # 'div class' list all info. of each movie\n",
    "    for movie in movie_list:\n",
    "        movies_Name = movie.find_all('a')[0].text\n",
    "        movies_Year = movie.find_all('span')[1].text\n",
    "        movies_ReleaseYear = re.findall(r'\\d{4}', movies_Year)[0]\n",
    "        movies_Genre = movie.find_all('span', class_ = 'genre')[0].text.strip()\n",
    "        movies_Director = movie.find_all('p')[2].find_all('a')[0].text\n",
    "        \n",
    "        movie_Dict['Movies Name'].append(movies_Name)\n",
    "        movie_Dict['Release Year'].append(movies_ReleaseYear)\n",
    "        movie_Dict['Genre'].append(movies_Genre)\n",
    "        movie_Dict['Director'].append(movies_Director)\n",
    "        \n",
    "    return movie_Dict\n",
    "\n",
    "\n",
    "def main():\n",
    "    for i in range(2):\n",
    "        x = 1 + (i * 50)\n",
    "        url = f'https://www.imdb.com/search/title?title_type=feature&start={x}&ref_=adv_nxt'\n",
    "        text = start_requests(url)\n",
    "        parse(text)\n",
    "\n",
    "if __name__ == '__main__':\n",
    "    main()\n",
    "\n",
    "#print(movie_Dict)\n"
   ]
  },
  {
   "cell_type": "code",
   "execution_count": null,
   "metadata": {},
   "outputs": [],
   "source": []
  }
 ],
 "metadata": {
  "kernelspec": {
   "display_name": "Python 3",
   "language": "python",
   "name": "python3"
  },
  "language_info": {
   "codemirror_mode": {
    "name": "ipython",
    "version": 3
   },
   "file_extension": ".py",
   "mimetype": "text/x-python",
   "name": "python",
   "nbconvert_exporter": "python",
   "pygments_lexer": "ipython3",
   "version": "3.7.0"
  }
 },
 "nbformat": 4,
 "nbformat_minor": 2
}
