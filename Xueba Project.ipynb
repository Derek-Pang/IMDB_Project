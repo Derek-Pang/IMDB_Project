{
 "cells": [
  {
   "cell_type": "code",
   "execution_count": 12,
   "metadata": {},
   "outputs": [],
   "source": [
    "import requests \n",
    "from bs4 import BeautifulSoup \n",
    "import re"
   ]
  },
  {
   "cell_type": "code",
   "execution_count": 15,
   "metadata": {},
   "outputs": [],
   "source": [
    "def start_requests(url):\n",
    "    r = requests.get(url)\n",
    "    return r.content"
   ]
  },
  {
   "cell_type": "code",
   "execution_count": 16,
   "metadata": {},
   "outputs": [],
   "source": [
    "movie_Dict = {'Movies Name':[],'Release Year':[], 'Restricted Level':[], 'Genre':[], 'Score':[], 'Director':[], 'Votes':[]}"
   ]
  },
  {
   "cell_type": "code",
   "execution_count": 18,
   "metadata": {},
   "outputs": [
    {
     "name": "stdout",
     "output_type": "stream",
     "text": [
      "{'Movies Name': ['Fantastic Beasts: The Crimes of Grindelwald', 'The Ballad of Buster Scruggs', 'Bohemian Rhapsody', 'Creed II', 'The Lion King', 'Ralph Breaks the Internet', 'Robin Hood', 'Widows', 'A Star Is Born', 'Aquaman', 'The Grinch', 'Outlaw King', 'Fantastic Beasts and Where to Find Them', 'The Christmas Chronicles', 'Overlord', 'Crazy Rich Asians', 'Venom', 'Instant Family', 'Incredibles 2', 'Peppermint', 'The Meg', 'Mission: Impossible - Fallout', 'The Princess Switch', 'The Favourite', 'Captain Marvel', 'Mile 22', 'Green Book', 'Deadpool 2', \"The Girl in the Spider's Web\", 'The Nun', 'First Man', 'Pokémon Detective Pikachu', 'Avengers: Infinity War', 'Cam', 'The Lego Movie 2: The Second Part', 'The Predator', 'The Greatest Showman', 'Toy Story 4', 'The Equalizer 2', 'Vice', 'Mortal Engines', 'BlacKkKlansman', 'The Happytime Murders', 'Suspiria', 'Halloween', 'The Nutcracker and the Four Realms', 'Mary Poppins Returns', 'Once Upon a Time in Hollywood', 'The Lion King', 'How the Grinch Stole Christmas', 'Dumbo', 'The Clovehitch Killer', 'Searching', 'Alpha', \"Harry Potter and the Sorcerer's Stone\", 'Thugs of Hindostan', 'Spider-Man: Into the Spider-Verse', 'Creed', 'Love Actually', 'Aladdin', 'Joker', 'The Hate U Give', 'The Mule', 'Untitled Avengers Movie', 'Boy Erased', 'Ant-Man and the Wasp', \"Ocean's Eight\", 'Speed Kills', 'Mamma Mia! Here We Go Again', 'Solo: A Star Wars Story', 'Christopher Robin', 'Black Panther', 'Beautiful Boy', 'Wreck-It Ralph', 'Papillon', 'Harry Potter and the Deathly Hallows: Part 2', 'Mandy', 'The Possession of Hannah Grace', 'After', 'The Spy Who Dumped Me', 'Hunter Killer', 'Game Night', 'Jurassic World: Fallen Kingdom', 'Bumblebee', 'Kin', 'Hellboy', 'Jonathan', 'Roma', 'The Irishman', 'The Godfather', 'Home Alone', \"National Lampoon's Christmas Vacation\", 'Jumanji: Welcome to the Jungle', 'Mowgli: Legend of the Jungle', 'Pacific Rim: Uprising', 'Hereditary', 'Ready Player One', 'A Private War', 'Justice League', 'Mary Queen of Scots', 'Fantastic Beasts: The Crimes of Grindelwald', 'The Ballad of Buster Scruggs', 'Bohemian Rhapsody', 'Creed II', 'The Lion King', 'Ralph Breaks the Internet', 'Robin Hood', 'Widows', 'A Star Is Born', 'Aquaman', 'The Grinch', 'Outlaw King', 'Fantastic Beasts and Where to Find Them', 'The Christmas Chronicles', 'Overlord', 'Crazy Rich Asians', 'Venom', 'Instant Family', 'Incredibles 2', 'Peppermint', 'The Meg', 'Mission: Impossible - Fallout', 'The Princess Switch', 'The Favourite', 'Captain Marvel', 'Mile 22', 'Green Book', 'Deadpool 2', \"The Girl in the Spider's Web\", 'The Nun', 'First Man', 'Pokémon Detective Pikachu', 'Avengers: Infinity War', 'Cam', 'The Lego Movie 2: The Second Part', 'The Predator', 'The Greatest Showman', 'Toy Story 4', 'The Equalizer 2', 'Vice', 'Mortal Engines', 'BlacKkKlansman', 'The Happytime Murders', 'Suspiria', 'Halloween', 'The Nutcracker and the Four Realms', 'Mary Poppins Returns', 'Once Upon a Time in Hollywood', 'The Lion King', 'How the Grinch Stole Christmas', 'Dumbo', 'The Clovehitch Killer', 'Searching', 'Alpha', \"Harry Potter and the Sorcerer's Stone\", 'Thugs of Hindostan', 'Spider-Man: Into the Spider-Verse', 'Creed', 'Love Actually', 'Aladdin', 'Joker', 'The Hate U Give', 'The Mule', 'Untitled Avengers Movie', 'Boy Erased', 'Ant-Man and the Wasp', \"Ocean's Eight\", 'Speed Kills', 'Mamma Mia! Here We Go Again', 'Solo: A Star Wars Story', 'Christopher Robin', 'Black Panther', 'Beautiful Boy', 'Wreck-It Ralph', 'Papillon', 'Harry Potter and the Deathly Hallows: Part 2', 'Mandy', 'The Possession of Hannah Grace', 'After', 'The Spy Who Dumped Me', 'Hunter Killer', 'Game Night', 'Jurassic World: Fallen Kingdom', 'Bumblebee', 'Kin', 'Hellboy', 'Jonathan', 'Roma', 'The Irishman', 'The Godfather', 'Home Alone', \"National Lampoon's Christmas Vacation\", 'Jumanji: Welcome to the Jungle', 'Mowgli: Legend of the Jungle', 'Pacific Rim: Uprising', 'Hereditary', 'Ready Player One', 'A Private War', 'Justice League', 'Mary Queen of Scots'], 'Release Year': ['2018', '2018', '2018', '2018', '2019', '2018', '2018', '2018', '2018', '2018', '2018', '2018', '2016', '2018', '2018', '2018', '2018', '2018', '2018', '2018', '2018', '2018', '2018', '2018', '2019', '2018', '2018', '2018', '2018', '2018', '2018', '2019', '2018', '2018', '2019', '2018', '2017', '2019', '2018', '2018', '2018', '2018', '2018', '2018', '2018', '2018', '2018', '2019', '1994', '2000', '2019', '2018', '2018', '2018', '2001', '2018', '2018', '2015', '2003', '2019', '2019', '2018', '2018', '2019', '2018', '2018', '2018', '2018', '2018', '2018', '2018', '2018', '2018', '2012', '2017', '2011', '2018', '2018', '2019', '2018', '2018', '2018', '2018', '2018', '2018', '2019', '2018', '2018', '2019', '1972', '1990', '1989', '2017', '2018', '2018', '2018', '2018', '2018', '2017', '2018', '2018', '2018', '2018', '2018', '2019', '2018', '2018', '2018', '2018', '2018', '2018', '2018', '2016', '2018', '2018', '2018', '2018', '2018', '2018', '2018', '2018', '2018', '2018', '2018', '2019', '2018', '2018', '2018', '2018', '2018', '2018', '2019', '2018', '2018', '2019', '2018', '2017', '2019', '2018', '2018', '2018', '2018', '2018', '2018', '2018', '2018', '2018', '2019', '1994', '2000', '2019', '2018', '2018', '2018', '2001', '2018', '2018', '2015', '2003', '2019', '2019', '2018', '2018', '2019', '2018', '2018', '2018', '2018', '2018', '2018', '2018', '2018', '2018', '2012', '2017', '2011', '2018', '2018', '2019', '2018', '2018', '2018', '2018', '2018', '2018', '2019', '2018', '2018', '2019', '1972', '1990', '1989', '2017', '2018', '2018', '2018', '2018', '2018', '2017', '2018'], 'Restricted Level': ['PG-13', 'R', 'PG-13', 'PG-13', 'None', 'PG', 'PG-13', 'R', 'R', 'PG-13', 'PG', 'R', 'PG-13', 'TV-PG', 'R', 'PG-13', 'PG-13', 'PG-13', 'PG', 'R', 'PG-13', 'PG-13', 'None', 'R', 'None', 'R', 'PG-13', 'R', 'R', 'R', 'PG-13', 'None', 'PG-13', 'TV-MA', 'None', 'R', 'PG', 'None', 'R', 'R', 'PG-13', 'R', 'R', 'R', 'R', 'PG', 'PG', 'None', 'G', 'PG', 'None', 'None', 'PG-13', 'PG-13', 'PG', 'None', 'PG', 'PG-13', 'R', 'None', 'None', 'PG-13', 'R', 'None', 'R', 'PG-13', 'PG-13', 'R', 'PG-13', 'PG-13', 'PG', 'PG-13', 'R', 'PG', 'R', 'PG-13', 'Not Rated', 'R', 'None', 'R', 'R', 'R', 'PG-13', 'PG-13', 'PG-13', 'None', 'None', 'R', 'None', 'R', 'PG', 'PG-13', 'PG-13', 'PG-13', 'PG-13', 'R', 'PG-13', 'R', 'PG-13', 'R', 'PG-13', 'R', 'PG-13', 'PG-13', 'None', 'PG', 'PG-13', 'R', 'R', 'PG-13', 'PG', 'R', 'PG-13', 'TV-PG', 'R', 'PG-13', 'PG-13', 'PG-13', 'PG', 'R', 'PG-13', 'PG-13', 'None', 'R', 'None', 'R', 'PG-13', 'R', 'R', 'R', 'PG-13', 'None', 'PG-13', 'TV-MA', 'None', 'R', 'PG', 'None', 'R', 'R', 'PG-13', 'R', 'R', 'R', 'R', 'PG', 'PG', 'None', 'G', 'PG', 'None', 'None', 'PG-13', 'PG-13', 'PG', 'None', 'PG', 'PG-13', 'R', 'None', 'None', 'PG-13', 'R', 'None', 'R', 'PG-13', 'PG-13', 'R', 'PG-13', 'PG-13', 'PG', 'PG-13', 'R', 'PG', 'R', 'PG-13', 'Not Rated', 'R', 'None', 'R', 'R', 'R', 'PG-13', 'PG-13', 'PG-13', 'None', 'None', 'R', 'None', 'R', 'PG', 'PG-13', 'PG-13', 'PG-13', 'PG-13', 'R', 'PG-13', 'R', 'PG-13', 'R'], 'Genre': ['Adventure, Family, Fantasy', 'Comedy, Drama, Musical', 'Biography, Drama, Music', 'Drama, Sport', 'Animation, Adventure, Drama', 'Animation, Adventure, Comedy', 'Action, Adventure, Thriller', 'Crime, Drama, Thriller', 'Drama, Music, Romance', 'Action, Adventure, Fantasy', 'Animation, Comedy, Family', 'Action, Biography, Drama', 'Adventure, Family, Fantasy', 'Adventure, Comedy, Family', 'Action, Adventure, Horror', 'Comedy, Romance', 'Action, Sci-Fi', 'Comedy, Drama', 'Animation, Action, Adventure', 'Action, Drama, Thriller', 'Action, Horror, Sci-Fi', 'Action, Adventure, Thriller', 'Romance', 'Biography, Comedy, Drama', 'Action, Adventure, Sci-Fi', 'Action, Adventure, Crime', 'Biography, Comedy, Drama', 'Action, Adventure, Comedy', 'Action, Crime, Drama', 'Horror, Mystery, Thriller', 'Biography, Drama, History', 'Animation, Adventure, Family', 'Action, Adventure, Fantasy', 'Horror, Mystery, Thriller', 'Animation, Action, Adventure', 'Action, Adventure, Horror', 'Biography, Drama, Musical', 'Animation, Adventure, Comedy', 'Action, Crime, Thriller', 'Biography, Drama, History', 'Action, Adventure, Fantasy', 'Biography, Comedy, Crime', 'Action, Comedy, Crime', 'Fantasy, Horror, Mystery', 'Horror, Thriller', 'Adventure, Family, Fantasy', 'Animation, Adventure, Family', 'Comedy, Drama', 'Animation, Adventure, Drama', 'Comedy, Family, Fantasy', 'Family, Fantasy', 'Drama, Horror, Mystery', 'Drama, Mystery, Thriller', 'Adventure, Drama, Family', 'Adventure, Family, Fantasy', 'Action, Adventure', 'Animation, Action, Adventure', 'Drama, Sport', 'Comedy, Drama, Romance', 'Adventure, Family, Fantasy', 'Crime, Drama, Thriller', 'Crime, Drama', 'Crime, Drama, Mystery', 'Action, Adventure, Fantasy', 'Biography, Drama', 'Action, Adventure, Comedy', 'Action, Comedy, Crime', 'Crime, Drama, Thriller', 'Comedy, Musical, Romance', 'Action, Adventure, Fantasy', 'Animation, Adventure, Comedy', 'Action, Adventure, Sci-Fi', 'Biography, Drama', 'Animation, Adventure, Comedy', 'Crime, Drama, Mystery', 'Adventure, Drama, Fantasy', 'Action, Horror, Thriller', 'Horror, Mystery, Thriller', 'Drama, Romance, Thriller', 'Action, Adventure, Comedy', 'Action, Thriller', 'Action, Comedy, Crime', 'Action, Adventure, Sci-Fi', 'Action, Adventure, Sci-Fi', 'Action, Sci-Fi', 'Action, Adventure, Fantasy', 'Drama, Sci-Fi', 'Drama', 'Biography, Crime, Drama', 'Crime, Drama', 'Comedy, Family', 'Comedy', 'Action, Adventure, Comedy', 'Adventure, Drama', 'Action, Adventure, Sci-Fi', 'Drama, Horror, Mystery', 'Action, Adventure, Sci-Fi', 'Biography, Drama, War', 'Action, Adventure, Fantasy', 'Biography, Drama, History', 'Adventure, Family, Fantasy', 'Comedy, Drama, Musical', 'Biography, Drama, Music', 'Drama, Sport', 'Animation, Adventure, Drama', 'Animation, Adventure, Comedy', 'Action, Adventure, Thriller', 'Crime, Drama, Thriller', 'Drama, Music, Romance', 'Action, Adventure, Fantasy', 'Animation, Comedy, Family', 'Action, Biography, Drama', 'Adventure, Family, Fantasy', 'Adventure, Comedy, Family', 'Action, Adventure, Horror', 'Comedy, Romance', 'Action, Sci-Fi', 'Comedy, Drama', 'Animation, Action, Adventure', 'Action, Drama, Thriller', 'Action, Horror, Sci-Fi', 'Action, Adventure, Thriller', 'Romance', 'Biography, Comedy, Drama', 'Action, Adventure, Sci-Fi', 'Action, Adventure, Crime', 'Biography, Comedy, Drama', 'Action, Adventure, Comedy', 'Action, Crime, Drama', 'Horror, Mystery, Thriller', 'Biography, Drama, History', 'Animation, Adventure, Family', 'Action, Adventure, Fantasy', 'Horror, Mystery, Thriller', 'Animation, Action, Adventure', 'Action, Adventure, Horror', 'Biography, Drama, Musical', 'Animation, Adventure, Comedy', 'Action, Crime, Thriller', 'Biography, Drama, History', 'Action, Adventure, Fantasy', 'Biography, Comedy, Crime', 'Action, Comedy, Crime', 'Fantasy, Horror, Mystery', 'Horror, Thriller', 'Adventure, Family, Fantasy', 'Animation, Adventure, Family', 'Comedy, Drama', 'Animation, Adventure, Drama', 'Comedy, Family, Fantasy', 'Family, Fantasy', 'Drama, Horror, Mystery', 'Drama, Mystery, Thriller', 'Adventure, Drama, Family', 'Adventure, Family, Fantasy', 'Action, Adventure', 'Animation, Action, Adventure', 'Drama, Sport', 'Comedy, Drama, Romance', 'Adventure, Family, Fantasy', 'Crime, Drama, Thriller', 'Crime, Drama', 'Crime, Drama, Mystery', 'Action, Adventure, Fantasy', 'Biography, Drama', 'Action, Adventure, Comedy', 'Action, Comedy, Crime', 'Crime, Drama, Thriller', 'Comedy, Musical, Romance', 'Action, Adventure, Fantasy', 'Animation, Adventure, Comedy', 'Action, Adventure, Sci-Fi', 'Biography, Drama', 'Animation, Adventure, Comedy', 'Crime, Drama, Mystery', 'Adventure, Drama, Fantasy', 'Action, Horror, Thriller', 'Horror, Mystery, Thriller', 'Drama, Romance, Thriller', 'Action, Adventure, Comedy', 'Action, Thriller', 'Action, Comedy, Crime', 'Action, Adventure, Sci-Fi', 'Action, Adventure, Sci-Fi', 'Action, Sci-Fi', 'Action, Adventure, Fantasy', 'Drama, Sci-Fi', 'Drama', 'Biography, Crime, Drama', 'Crime, Drama', 'Comedy, Family', 'Comedy', 'Action, Adventure, Comedy', 'Adventure, Drama', 'Action, Adventure, Sci-Fi', 'Drama, Horror, Mystery', 'Action, Adventure, Sci-Fi', 'Biography, Drama, War', 'Action, Adventure, Fantasy', 'Biography, Drama, History'], 'Score': [7.0, 7.4, 8.4, 8.0, 'None', 7.6, 5.3, 7.5, 8.2, 'None', 6.4, 7.0, 7.3, 7.4, 7.1, 7.2, 7.0, 7.6, 7.9, 6.5, 5.8, 7.9, 6.1, 8.2, 'None', 6.1, 8.2, 7.8, 6.1, 5.5, 7.6, 'None', 8.5, 6.0, 'None', 5.6, 7.7, 'None', 6.8, 'None', 'None', 7.6, 5.2, 7.3, 7.1, 5.6, 'None', 'None', 8.5, 6.1, 'None', 6.5, 7.8, 6.8, 7.6, 3.5, 'None', 7.6, 7.6, 'None', 'None', 6.9, 'None', 'None', 7.2, 7.2, 6.2, 3.8, 6.9, 7.0, 7.5, 7.4, 7.3, 7.7, 7.1, 8.1, 6.7, 6.2, 'None', 6.0, 7.0, 7.0, 6.2, 'None', 5.6, 'None', 5.8, 8.6, 'None', 9.2, 7.5, 7.6, 7.0, 8.0, 5.6, 7.3, 7.6, 7.1, 6.5, 6.8, 7.0, 7.4, 8.4, 8.0, 'None', 7.6, 5.3, 7.5, 8.2, 'None', 6.4, 7.0, 7.3, 7.4, 7.1, 7.2, 7.0, 7.6, 7.9, 6.5, 5.8, 7.9, 6.1, 8.2, 'None', 6.1, 8.2, 7.8, 6.1, 5.5, 7.6, 'None', 8.5, 6.0, 'None', 5.6, 7.7, 'None', 6.8, 'None', 'None', 7.6, 5.2, 7.3, 7.1, 5.6, 'None', 'None', 8.5, 6.1, 'None', 6.5, 7.8, 6.8, 7.6, 3.5, 'None', 7.6, 7.6, 'None', 'None', 6.9, 'None', 'None', 7.2, 7.2, 6.2, 3.8, 6.9, 7.0, 7.5, 7.4, 7.3, 7.7, 7.1, 8.1, 6.7, 6.2, 'None', 6.0, 7.0, 7.0, 6.2, 'None', 5.6, 'None', 5.8, 8.6, 'None', 9.2, 7.5, 7.6, 7.0, 8.0, 5.6, 7.3, 7.6, 7.1, 6.5, 6.8], 'Director': ['David Yates', 'Ethan Coen', 'Bryan Singer', 'Steven Caple Jr.', 'Jon Favreau', 'Phil Johnston', 'Otto Bathurst', 'Steve McQueen', 'Bradley Cooper', 'James Wan', 'Yarrow Cheney', 'David Mackenzie', 'David Yates', 'Clay Kaytis', 'Julius Avery', 'Jon M. Chu', 'Ruben Fleischer', 'Sean Anders', 'Brad Bird', 'Pierre Morel', 'Jon Turteltaub', 'Christopher McQuarrie', 'Mike Rohl', 'Yorgos Lanthimos', 'Anna Boden', 'Peter Berg', 'Peter Farrelly', 'David Leitch', 'Fede Alvarez', 'Corin Hardy', 'Damien Chazelle', 'Rob Letterman', 'Anthony Russo', 'Daniel Goldhaber', 'Mike Mitchell', 'Shane Black', 'Michael Gracey', 'Josh Cooley', 'Antoine Fuqua', 'Adam McKay', 'Christian Rivers', 'Spike Lee', 'Brian Henson', 'Luca Guadagnino', 'David Gordon Green', 'Lasse Hallström', 'Rob Marshall', 'Quentin Tarantino', 'Roger Allers', 'Ron Howard', 'Tim Burton', 'Duncan Skiles', 'Aneesh Chaganty', 'Albert Hughes', 'Chris Columbus', 'Vijay Krishna Acharya', 'Bob Persichetti', 'Ryan Coogler', 'Richard Curtis', 'Guy Ritchie', 'Todd Phillips', 'George Tillman Jr.', 'Clint Eastwood', 'Anthony Russo', 'Joel Edgerton', 'Peyton Reed', 'Gary Ross', 'Jodi Scurfield', 'Ol Parker', 'Ron Howard', 'Marc Forster', 'Ryan Coogler', 'Felix van Groeningen', 'Rich Moore', 'Michael Noer', 'David Yates', 'Panos Cosmatos', 'Diederik Van Rooijen', 'Jenny Gage', 'Susanna Fogel', 'Donovan Marsh', 'John Francis Daley', 'J.A. Bayona', 'Travis Knight', 'Jonathan Baker', 'Neil Marshall', 'Bill Oliver', 'Alfonso Cuarón', 'Martin Scorsese', 'Francis Ford Coppola', 'Chris Columbus', 'Jeremiah S. Chechik', 'Jake Kasdan', 'Andy Serkis', 'Steven S. DeKnight', 'Ari Aster', 'Steven Spielberg', 'Matthew Heineman', 'Zack Snyder', 'Josie Rourke', 'David Yates', 'Ethan Coen', 'Bryan Singer', 'Steven Caple Jr.', 'Jon Favreau', 'Phil Johnston', 'Otto Bathurst', 'Steve McQueen', 'Bradley Cooper', 'James Wan', 'Yarrow Cheney', 'David Mackenzie', 'David Yates', 'Clay Kaytis', 'Julius Avery', 'Jon M. Chu', 'Ruben Fleischer', 'Sean Anders', 'Brad Bird', 'Pierre Morel', 'Jon Turteltaub', 'Christopher McQuarrie', 'Mike Rohl', 'Yorgos Lanthimos', 'Anna Boden', 'Peter Berg', 'Peter Farrelly', 'David Leitch', 'Fede Alvarez', 'Corin Hardy', 'Damien Chazelle', 'Rob Letterman', 'Anthony Russo', 'Daniel Goldhaber', 'Mike Mitchell', 'Shane Black', 'Michael Gracey', 'Josh Cooley', 'Antoine Fuqua', 'Adam McKay', 'Christian Rivers', 'Spike Lee', 'Brian Henson', 'Luca Guadagnino', 'David Gordon Green', 'Lasse Hallström', 'Rob Marshall', 'Quentin Tarantino', 'Roger Allers', 'Ron Howard', 'Tim Burton', 'Duncan Skiles', 'Aneesh Chaganty', 'Albert Hughes', 'Chris Columbus', 'Vijay Krishna Acharya', 'Bob Persichetti', 'Ryan Coogler', 'Richard Curtis', 'Guy Ritchie', 'Todd Phillips', 'George Tillman Jr.', 'Clint Eastwood', 'Anthony Russo', 'Joel Edgerton', 'Peyton Reed', 'Gary Ross', 'Jodi Scurfield', 'Ol Parker', 'Ron Howard', 'Marc Forster', 'Ryan Coogler', 'Felix van Groeningen', 'Rich Moore', 'Michael Noer', 'David Yates', 'Panos Cosmatos', 'Diederik Van Rooijen', 'Jenny Gage', 'Susanna Fogel', 'Donovan Marsh', 'John Francis Daley', 'J.A. Bayona', 'Travis Knight', 'Jonathan Baker', 'Neil Marshall', 'Bill Oliver', 'Alfonso Cuarón', 'Martin Scorsese', 'Francis Ford Coppola', 'Chris Columbus', 'Jeremiah S. Chechik', 'Jake Kasdan', 'Andy Serkis', 'Steven S. DeKnight', 'Ari Aster', 'Steven Spielberg', 'Matthew Heineman', 'Zack Snyder', 'Josie Rourke'], 'Votes': ['65925', '27394', '128178', '8412', 'None', '9837', '5652', '14259', '105428', 'None', '7551', '26460', '333549', '8657', '15761', '48170', '135978', '2565', '141493', '12672', '75515', '171914', '5608', '2521', 'None', '28643', '3335', '306145', '7356', '59758', '53328', 'None', '529483', '6243', 'None', '48718', '167766', 'None', '57274', 'None', 'None', '58624', '9102', '8677', '49140', '7643', 'None', 'None', '797944', '171192', 'None', '2118', '44850', '25453', '546062', '10480', 'None', '206367', '368612', 'None', 'None', '6839', 'None', 'None', '2989', '155249', '106463', '544', '44319', '175545', '30451', '418265', '4494', '322781', '14805', '666761', '26081', '488', 'None', '30529', '7354', '130264', '176465', 'None', '4685', 'None', '1162', '2276', 'None', '1384908', '384484', '125990', '216968', '78', '76586', '106233', '243750', '1084', '295461', '183', '65925', '27394', '128178', '8412', 'None', '9837', '5652', '14259', '105428', 'None', '7551', '26460', '333549', '8657', '15761', '48170', '135978', '2565', '141493', '12672', '75515', '171914', '5608', '2521', 'None', '28643', '3335', '306145', '7356', '59758', '53328', 'None', '529483', '6243', 'None', '48718', '167766', 'None', '57274', 'None', 'None', '58624', '9102', '8677', '49140', '7643', 'None', 'None', '797944', '171192', 'None', '2118', '44850', '25453', '546062', '10480', 'None', '206367', '368612', 'None', 'None', '6839', 'None', 'None', '2989', '155249', '106463', '544', '44319', '175545', '30451', '418265', '4494', '322781', '14805', '666761', '26081', '488', 'None', '30529', '7354', '130264', '176465', 'None', '4685', 'None', '1162', '2276', 'None', '1384908', '384484', '125990', '216968', '78', '76586', '106233', '243750', '1084', '295461', '183']}\n"
     ]
    }
   ],
   "source": [
    "\n",
    "def parse(text):\n",
    "    soup = BeautifulSoup(text, 'html.parser')\n",
    "    movie_list = soup.find_all('div', class_ = 'lister-item-content') # 'div class' list all info. of each movie\n",
    "    for movie in movie_list:\n",
    "        movies_Name = movie.find_all('a')[0].text\n",
    "        movies_Year = movie.find_all('span')[1].text\n",
    "        try:\n",
    "            movies_R_Level = movie.find_all('span', class_ = 'certificate')[0].text.strip()\n",
    "        except:\n",
    "            movies_R_Level = 'None'\n",
    "        movies_ReleaseYear = re.findall(r'\\d{4}', movies_Year)[0]\n",
    "        movies_Genre = movie.find_all('span', class_ = 'genre')[0].text.strip()\n",
    "        try:\n",
    "            movies_Score = float(movie.find_all('div', class_ = 'inline-block ratings-imdb-rating')[0]['data-value'])\n",
    "        except:\n",
    "            movies_Score = 'None'\n",
    "        movies_Director = movie.find_all('p')[2].find_all('a')[0].text\n",
    "        try: \n",
    "            movies_Votes = movie.find_all('p')[3].find_all('span')[1]['data-value']\n",
    "        except:\n",
    "            movies_Votes = 'None'\n",
    "        \n",
    "        movie_Dict['Movies Name'].append(movies_Name)\n",
    "        movie_Dict['Release Year'].append(movies_ReleaseYear)\n",
    "        movie_Dict['Restricted Level'].append(movies_R_Level)\n",
    "        movie_Dict['Genre'].append(movies_Genre)\n",
    "        movie_Dict['Score'].append(movies_Score)\n",
    "        movie_Dict['Director'].append(movies_Director)\n",
    "        movie_Dict['Votes'].append(movies_Votes)\n",
    "        \n",
    "    return movie_Dict\n",
    "\n",
    "def main():\n",
    "    for i in range(2):\n",
    "        x = 1 + (i * 50)\n",
    "        url = f'https://www.imdb.com/search/title?title_type=feature&start={x}&ref_=adv_nxt'\n",
    "        text = start_requests(url)\n",
    "        parse(text)\n",
    "\n",
    "if __name__ == '__main__':\n",
    "    main()\n",
    "\n",
    "print(movie_Dict)\n"
   ]
  },
  {
   "cell_type": "code",
   "execution_count": null,
   "metadata": {},
   "outputs": [],
   "source": []
  }
 ],
 "metadata": {
  "kernelspec": {
   "display_name": "Python 3",
   "language": "python",
   "name": "python3"
  },
  "language_info": {
   "codemirror_mode": {
    "name": "ipython",
    "version": 3
   },
   "file_extension": ".py",
   "mimetype": "text/x-python",
   "name": "python",
   "nbconvert_exporter": "python",
   "pygments_lexer": "ipython3",
   "version": "3.7.0"
  }
 },
 "nbformat": 4,
 "nbformat_minor": 2
}
