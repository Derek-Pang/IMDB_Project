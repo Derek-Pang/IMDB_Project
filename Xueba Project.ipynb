{
 "cells": [
  {
   "cell_type": "code",
   "execution_count": 1,
   "metadata": {},
   "outputs": [],
   "source": [
    "import requests "
   ]
  },
  {
   "cell_type": "code",
   "execution_count": 2,
   "metadata": {},
   "outputs": [],
   "source": [
    "from bs4 import BeautifulSoup "
   ]
  },
  {
   "cell_type": "code",
   "execution_count": 4,
   "metadata": {},
   "outputs": [],
   "source": [
    "import re "
   ]
  },
  {
   "cell_type": "code",
   "execution_count": 5,
   "metadata": {},
   "outputs": [],
   "source": [
    "def start_requests(url):\n",
    "    r = requests.get(url)\n",
    "    return r.content"
   ]
  },
  {
   "cell_type": "code",
   "execution_count": 6,
   "metadata": {},
   "outputs": [],
   "source": [
    "movie_Dict = {'Movies Name':[],'Release Year':[], 'Genre':[], 'Director':[]}"
   ]
  },
  {
   "cell_type": "code",
   "execution_count": 7,
   "metadata": {},
   "outputs": [
    {
     "name": "stdout",
     "output_type": "stream",
     "text": [
      "{'Movies Name': ['Fantastic Beasts: The Crimes of Grindelwald', 'The Ballad of Buster Scruggs', 'Bohemian Rhapsody', 'Creed II', 'The Lion King', 'Ralph Breaks the Internet', 'Robin Hood', 'Widows', 'A Star Is Born', 'Aquaman', 'The Grinch', 'Outlaw King', 'Fantastic Beasts and Where to Find Them', 'The Christmas Chronicles', 'Overlord', 'Crazy Rich Asians', 'Venom', 'Instant Family', 'Incredibles 2', 'Peppermint', 'The Meg', 'Mission: Impossible - Fallout', 'The Princess Switch', 'The Favourite', 'Captain Marvel', 'Mile 22', 'Green Book', 'Deadpool 2', \"The Girl in the Spider's Web\", 'The Nun', 'First Man', 'Pokémon Detective Pikachu', 'Avengers: Infinity War', 'Cam', 'The Lego Movie 2: The Second Part', 'The Predator', 'The Greatest Showman', 'Toy Story 4', 'The Equalizer 2', 'Vice', 'Mortal Engines', 'BlacKkKlansman', 'The Happytime Murders', 'Suspiria', 'Halloween', 'The Nutcracker and the Four Realms', 'Mary Poppins Returns', 'Once Upon a Time in Hollywood', 'The Lion King', 'How the Grinch Stole Christmas', 'Dumbo', 'The Clovehitch Killer', 'Searching', 'Alpha', \"Harry Potter and the Sorcerer's Stone\", 'Thugs of Hindostan', 'Spider-Man: Into the Spider-Verse', 'Creed', 'Love Actually', 'Aladdin', 'Joker', 'The Hate U Give', 'The Mule', 'Untitled Avengers Movie', 'Boy Erased', 'Ant-Man and the Wasp', \"Ocean's Eight\", 'Speed Kills', 'Mamma Mia! Here We Go Again', 'Solo: A Star Wars Story', 'Christopher Robin', 'Black Panther', 'Beautiful Boy', 'Wreck-It Ralph', 'Papillon', 'Harry Potter and the Deathly Hallows: Part 2', 'Mandy', 'The Possession of Hannah Grace', 'After', 'The Spy Who Dumped Me', 'Hunter Killer', 'Game Night', 'Jurassic World: Fallen Kingdom', 'Bumblebee', 'Kin', 'Hellboy', 'Jonathan', 'Roma', 'The Irishman', 'The Godfather', 'Home Alone', \"National Lampoon's Christmas Vacation\", 'Jumanji: Welcome to the Jungle', 'Mowgli: Legend of the Jungle', 'Pacific Rim: Uprising', 'Hereditary', 'Ready Player One', 'A Private War', 'Justice League', 'Mary Queen of Scots'], 'Release Year': ['(2018)', '(2018)', '(2018)', '(2018)', '(2019)', '(2018)', '(I) (2018)', '(2018)', '(2018)', '(2018)', '(2018)', '(2018)', '(2016)', '(2018)', '(2018)', '(2018)', '(2018)', '(2018)', '(2018)', '(2018)', '(2018)', '(2018)', '(2018)', '(2018)', '(2019)', '(2018)', '(2018)', '(2018)', '(2018)', '(2018)', '(2018)', '(2019)', '(2018)', '(2018)', '(2019)', '(2018)', '(2017)', '(2019)', '(2018)', '(I) (2018)', '(2018)', '(2018)', '(2018)', '(I) (2018)', '(I) (2018)', '(2018)', '(2018)', '(2019)', '(1994)', '(2000)', '(2019)', '(2018)', '(III) (2018)', '(2018)', '(2001)', '(2018)', '(2018)', '(2015)', '(2003)', '(2019)', '(2019)', '(2018)', '(2018)', '(2019)', '(2018)', '(2018)', '(2018)', '(2018)', '(2018)', '(2018)', '(2018)', '(2018)', '(2018)', '(2012)', '(I) (2017)', '(2011)', '(I) (2018)', '(2018)', '(I) (2019)', '(2018)', '(2018)', '(I) (2018)', '(2018)', '(2018)', '(I) (2018)', '(2019)', '(2018)', '(2018)', '(2019)', '(1972)', '(1990)', '(1989)', '(2017)', '(2018)', '(2018)', '(2018)', '(2018)', '(2018)', '(2017)', '(2018)'], 'Genre': ['Adventure, Family, Fantasy', 'Comedy, Drama, Musical', 'Biography, Drama, Music', 'Drama, Sport', 'Animation, Adventure, Drama', 'Animation, Adventure, Comedy', 'Action, Adventure, Thriller', 'Crime, Drama, Thriller', 'Drama, Music, Romance', 'Action, Adventure, Fantasy', 'Animation, Comedy, Family', 'Action, Biography, Drama', 'Adventure, Family, Fantasy', 'Adventure, Comedy, Family', 'Action, Adventure, Horror', 'Comedy, Romance', 'Action, Sci-Fi', 'Comedy, Drama', 'Animation, Action, Adventure', 'Action, Drama, Thriller', 'Action, Horror, Sci-Fi', 'Action, Adventure, Thriller', 'Romance', 'Biography, Comedy, Drama', 'Action, Adventure, Sci-Fi', 'Action, Adventure, Crime', 'Biography, Comedy, Drama', 'Action, Adventure, Comedy', 'Action, Crime, Drama', 'Horror, Mystery, Thriller', 'Biography, Drama, History', 'Animation, Adventure, Family', 'Action, Adventure, Fantasy', 'Horror, Mystery, Thriller', 'Animation, Action, Adventure', 'Action, Adventure, Horror', 'Biography, Drama, Musical', 'Animation, Adventure, Comedy', 'Action, Crime, Thriller', 'Biography, Drama, History', 'Action, Adventure, Fantasy', 'Biography, Comedy, Crime', 'Action, Comedy, Crime', 'Fantasy, Horror, Mystery', 'Horror, Thriller', 'Adventure, Family, Fantasy', 'Animation, Adventure, Family', 'Comedy, Drama', 'Animation, Adventure, Drama', 'Comedy, Family, Fantasy', 'Family, Fantasy', 'Drama, Horror, Mystery', 'Drama, Mystery, Thriller', 'Adventure, Drama, Family', 'Adventure, Family, Fantasy', 'Action, Adventure', 'Animation, Action, Adventure', 'Drama, Sport', 'Comedy, Drama, Romance', 'Adventure, Family, Fantasy', 'Crime, Drama, Thriller', 'Crime, Drama', 'Crime, Drama, Mystery', 'Action, Adventure, Fantasy', 'Biography, Drama', 'Action, Adventure, Comedy', 'Action, Comedy, Crime', 'Crime, Drama, Thriller', 'Comedy, Musical, Romance', 'Action, Adventure, Fantasy', 'Animation, Adventure, Comedy', 'Action, Adventure, Sci-Fi', 'Biography, Drama', 'Animation, Adventure, Comedy', 'Crime, Drama, Mystery', 'Adventure, Drama, Fantasy', 'Action, Horror, Thriller', 'Horror, Mystery, Thriller', 'Drama, Romance, Thriller', 'Action, Adventure, Comedy', 'Action, Thriller', 'Action, Comedy, Crime', 'Action, Adventure, Sci-Fi', 'Action, Adventure, Sci-Fi', 'Action, Sci-Fi', 'Action, Adventure, Fantasy', 'Drama, Sci-Fi', 'Drama', 'Biography, Crime, Drama', 'Crime, Drama', 'Comedy, Family', 'Comedy', 'Action, Adventure, Comedy', 'Adventure, Drama', 'Action, Adventure, Sci-Fi', 'Drama, Horror, Mystery', 'Action, Adventure, Sci-Fi', 'Biography, Drama, War', 'Action, Adventure, Fantasy', 'Biography, Drama, History'], 'Director': ['David Yates', 'Ethan Coen', 'Bryan Singer', 'Steven Caple Jr.', 'Jon Favreau', 'Phil Johnston', 'Otto Bathurst', 'Steve McQueen', 'Bradley Cooper', 'James Wan', 'Yarrow Cheney', 'David Mackenzie', 'David Yates', 'Clay Kaytis', 'Julius Avery', 'Jon M. Chu', 'Ruben Fleischer', 'Sean Anders', 'Brad Bird', 'Pierre Morel', 'Jon Turteltaub', 'Christopher McQuarrie', 'Mike Rohl', 'Yorgos Lanthimos', 'Anna Boden', 'Peter Berg', 'Peter Farrelly', 'David Leitch', 'Fede Alvarez', 'Corin Hardy', 'Damien Chazelle', 'Rob Letterman', 'Anthony Russo', 'Daniel Goldhaber', 'Mike Mitchell', 'Shane Black', 'Michael Gracey', 'Josh Cooley', 'Antoine Fuqua', 'Adam McKay', 'Christian Rivers', 'Spike Lee', 'Brian Henson', 'Luca Guadagnino', 'David Gordon Green', 'Lasse Hallström', 'Rob Marshall', 'Quentin Tarantino', 'Roger Allers', 'Ron Howard', 'Tim Burton', 'Duncan Skiles', 'Aneesh Chaganty', 'Albert Hughes', 'Chris Columbus', 'Vijay Krishna Acharya', 'Bob Persichetti', 'Ryan Coogler', 'Richard Curtis', 'Guy Ritchie', 'Todd Phillips', 'George Tillman Jr.', 'Clint Eastwood', 'Anthony Russo', 'Joel Edgerton', 'Peyton Reed', 'Gary Ross', 'Jodi Scurfield', 'Ol Parker', 'Ron Howard', 'Marc Forster', 'Ryan Coogler', 'Felix van Groeningen', 'Rich Moore', 'Michael Noer', 'David Yates', 'Panos Cosmatos', 'Diederik Van Rooijen', 'Jenny Gage', 'Susanna Fogel', 'Donovan Marsh', 'John Francis Daley', 'J.A. Bayona', 'Travis Knight', 'Jonathan Baker', 'Neil Marshall', 'Bill Oliver', 'Alfonso Cuarón', 'Martin Scorsese', 'Francis Ford Coppola', 'Chris Columbus', 'Jeremiah S. Chechik', 'Jake Kasdan', 'Andy Serkis', 'Steven S. DeKnight', 'Ari Aster', 'Steven Spielberg', 'Matthew Heineman', 'Zack Snyder', 'Josie Rourke']}\n"
     ]
    }
   ],
   "source": [
    "def parse(text):\n",
    "    soup = BeautifulSoup(text, 'html.parser')\n",
    "    movie_list = soup.find_all('div', class_ = 'lister-item-content') # 'div class' list all info. of each movie\n",
    "    for movie in movie_list:\n",
    "        movies_Name = movie.find_all('a')[0].text\n",
    "        movies_ReleaseYear = movie.find_all('span')[1].text\n",
    "        movies_Genre = movie.find_all('span', class_ = 'genre')[0].text.strip()\n",
    "        movies_Director = movie.find_all('p')[2].find_all('a')[0].text\n",
    "        \n",
    "        movie_Dict['Movies Name'].append(movies_Name)\n",
    "        movie_Dict['Release Year'].append(movies_ReleaseYear)\n",
    "        movie_Dict['Genre'].append(movies_Genre)\n",
    "        movie_Dict['Director'].append(movies_Director)\n",
    "        \n",
    "    return movie_Dict\n",
    "\n",
    "def main():\n",
    "    for i in range(2):\n",
    "        x = 1 + (i * 50)\n",
    "        url = f'https://www.imdb.com/search/title?title_type=feature&start={x}&ref_=adv_nxt'\n",
    "        text = start_requests(url)\n",
    "        parse(text)\n",
    "\n",
    "if __name__ == '__main__':\n",
    "    main()\n",
    "\n",
    "print(movie_Dict)\n"
   ]
  },
  {
   "cell_type": "code",
   "execution_count": null,
   "metadata": {},
   "outputs": [],
   "source": []
  }
 ],
 "metadata": {
  "kernelspec": {
   "display_name": "Python 3",
   "language": "python",
   "name": "python3"
  },
  "language_info": {
   "codemirror_mode": {
    "name": "ipython",
    "version": 3
   },
   "file_extension": ".py",
   "mimetype": "text/x-python",
   "name": "python",
   "nbconvert_exporter": "python",
   "pygments_lexer": "ipython3",
   "version": "3.7.0"
  }
 },
 "nbformat": 4,
 "nbformat_minor": 2
}
