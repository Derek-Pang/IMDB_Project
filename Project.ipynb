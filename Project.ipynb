{
 "cells": [
  {
   "cell_type": "code",
   "execution_count": 2,
   "metadata": {},
   "outputs": [
    {
     "name": "stdout",
     "output_type": "stream",
     "text": [
      "{'Movies Name': ['Fantastic Beasts: The Crimes of Grindelwald', 'The Ballad of Buster Scruggs', 'Bohemian Rhapsody', 'Creed II', 'The Lion King', 'Ralph Breaks the Internet', 'Robin Hood', 'Widows', 'A Star Is Born', 'Aquaman', 'The Grinch', 'Outlaw King', 'Fantastic Beasts and Where to Find Them', 'The Christmas Chronicles', 'Overlord', 'Crazy Rich Asians', 'Venom', 'Instant Family', 'Incredibles 2', 'Peppermint', 'The Meg', 'Mission: Impossible - Fallout', 'The Princess Switch', 'The Favourite', 'Captain Marvel', 'Mile 22', 'Green Book', 'Deadpool 2', \"The Girl in the Spider's Web\", 'The Nun', 'First Man', 'Pokémon Detective Pikachu', 'Avengers: Infinity War', 'Cam', 'The Lego Movie 2: The Second Part', 'The Predator', 'The Greatest Showman', 'Toy Story 4', 'The Equalizer 2', 'Vice', 'Mortal Engines', 'BlacKkKlansman', 'The Happytime Murders', 'Suspiria', 'Halloween', 'The Nutcracker and the Four Realms', 'Mary Poppins Returns', 'Once Upon a Time in Hollywood', 'The Lion King', 'How the Grinch Stole Christmas'], 'Release Year': ['(2018)', '(2018)', '(2018)', '(2018)', '(2019)', '(2018)', '(I) (2018)', '(2018)', '(2018)', '(2018)', '(2018)', '(2018)', '(2016)', '(2018)', '(2018)', '(2018)', '(2018)', '(2018)', '(2018)', '(2018)', '(2018)', '(2018)', '(2018)', '(2018)', '(2019)', '(2018)', '(2018)', '(2018)', '(2018)', '(2018)', '(2018)', '(2019)', '(2018)', '(2018)', '(2019)', '(2018)', '(2017)', '(2019)', '(2018)', '(I) (2018)', '(2018)', '(2018)', '(2018)', '(I) (2018)', '(I) (2018)', '(2018)', '(2018)', '(2019)', '(1994)', '(2000)'], 'Genre': ['Adventure, Family, Fantasy', 'Comedy, Drama, Musical', 'Biography, Drama, Music', 'Drama, Sport', 'Animation, Adventure, Drama', 'Animation, Adventure, Comedy', 'Action, Adventure, Thriller', 'Crime, Drama, Thriller', 'Drama, Music, Romance', 'Action, Adventure, Fantasy', 'Animation, Comedy, Family', 'Action, Biography, Drama', 'Adventure, Family, Fantasy', 'Adventure, Comedy, Family', 'Action, Adventure, Horror', 'Comedy, Romance', 'Action, Sci-Fi', 'Comedy, Drama', 'Animation, Action, Adventure', 'Action, Drama, Thriller', 'Action, Horror, Sci-Fi', 'Action, Adventure, Thriller', 'Romance', 'Biography, Comedy, Drama', 'Action, Adventure, Sci-Fi', 'Action, Adventure, Crime', 'Biography, Comedy, Drama', 'Action, Adventure, Comedy', 'Action, Crime, Drama', 'Horror, Mystery, Thriller', 'Biography, Drama, History', 'Animation, Adventure, Family', 'Action, Adventure, Fantasy', 'Horror, Mystery, Thriller', 'Animation, Action, Adventure', 'Action, Adventure, Horror', 'Biography, Drama, Musical', 'Animation, Adventure, Comedy', 'Action, Crime, Thriller', 'Biography, Drama, History', 'Action, Adventure, Fantasy', 'Biography, Comedy, Crime', 'Action, Comedy, Crime', 'Fantasy, Horror, Mystery', 'Horror, Thriller', 'Adventure, Family, Fantasy', 'Animation, Adventure, Family', 'Comedy, Drama', 'Animation, Adventure, Drama', 'Comedy, Family, Fantasy']}\n"
     ]
    }
   ],
   "source": [
    "import requests \n",
    "from bs4 import BeautifulSoup \n",
    "\n",
    "def start_requests(url):\n",
    "    r = requests.get(url)\n",
    "    return r.content\n",
    "\n",
    "movie_Dict = {'Movies Name':[],'Release Year':[], 'Genre':[]}\n",
    "\n",
    "def parse(text):\n",
    "    soup = BeautifulSoup(text, 'html.parser')\n",
    "    movie_list = soup.find_all('div', class_ = 'lister-item-content') # 'div class' list all info. of each movie\n",
    "    for movie in movie_list:\n",
    "        movies_Name = movie.find_all('a')[0].text\n",
    "        movies_ReleaseYear = movie.find_all('span')[1].text\n",
    "        movies_Genre = movie.find_all('span', class_ = 'genre')[0].text.strip()\n",
    "        movie_Dict['Movies Name'].append(movies_Name)\n",
    "        movie_Dict['Release Year'].append(movies_ReleaseYear)\n",
    "        movie_Dict['Genre'].append(movies_Genre)\n",
    "    return print(movie_Dict)\n",
    "\n",
    "def main():\n",
    "    for i in range(1):\n",
    "        x = 1 + i * 50\n",
    "        url = f'https://www.imdb.com/search/title?title_type=feature&start={x}&ref_=adv_nxt'\n",
    "        text = start_requests(url)\n",
    "        parse(text)\n",
    "\n",
    "if __name__ == '__main__':\n",
    "    main()\n"
   ]
  },
  {
   "cell_type": "code",
   "execution_count": null,
   "metadata": {},
   "outputs": [],
   "source": []
  }
 ],
 "metadata": {
  "kernelspec": {
   "display_name": "Python 3",
   "language": "python",
   "name": "python3"
  },
  "language_info": {
   "codemirror_mode": {
    "name": "ipython",
    "version": 3
   },
   "file_extension": ".py",
   "mimetype": "text/x-python",
   "name": "python",
   "nbconvert_exporter": "python",
   "pygments_lexer": "ipython3",
   "version": "3.6.5"
  }
 },
 "nbformat": 4,
 "nbformat_minor": 2
}
